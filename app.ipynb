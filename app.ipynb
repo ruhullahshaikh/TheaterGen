{
 "cells": [
  {
   "cell_type": "code",
   "execution_count": null,
   "metadata": {},
   "outputs": [],
   "source": [
    "from huggingface_hub import snapshot_download\n",
    "\n",
    "snapshot_download(repo_id=\"stabilityai/stable-diffusion-xl-base-1.0\", \n",
    "                  allow_patterns=[\"scheduler/**\"],\n",
    "                  local_dir=\"scheduler\")\n"
   ]
  },
  {
   "cell_type": "code",
   "execution_count": null,
   "metadata": {},
   "outputs": [],
   "source": [
    "from huggingface_hub import snapshot_download\n",
    "\n",
    "snapshot_download(repo_id=\"stabilityai/stable-diffusion-xl-base-1.0\", \n",
    "                  allow_patterns=[\"vae/**\"],\n",
    "                  local_dir=\"vae\")\n"
   ]
  },
  {
   "cell_type": "code",
   "execution_count": null,
   "metadata": {},
   "outputs": [],
   "source": [
    "from huggingface_hub import snapshot_download\n",
    "\n",
    "snapshot_download(repo_id=\"h94/IP-Adapter\", \n",
    "                  allow_patterns=[\"sdxl_models/image_encoder/**\"],\n",
    "                  local_dir=\"image_encoder\")\n"
   ]
  },
  {
   "cell_type": "code",
   "execution_count": null,
   "metadata": {},
   "outputs": [],
   "source": [
    "from huggingface_hub import snapshot_download\n",
    "from tqdm import tqdm\n",
    "\n",
    "#Download sub \n",
    "snapshot_download(\n",
    "    repo_id=\"h94/IP-Adapter\",\n",
    "    allow_patterns=[\"unet/**\"],\n",
    "    local_dir=\"unet\",\n",
    "    progress=tqdm # Enable tqdm progress bar\n",
    ")\n"
   ]
  }
 ],
 "metadata": {
  "kernelspec": {
   "display_name": "theaterGen",
   "language": "python",
   "name": "python3"
  },
  "language_info": {
   "codemirror_mode": {
    "name": "ipython",
    "version": 3
   },
   "file_extension": ".py",
   "mimetype": "text/x-python",
   "name": "python",
   "nbconvert_exporter": "python",
   "pygments_lexer": "ipython3",
   "version": "3.10.16"
  }
 },
 "nbformat": 4,
 "nbformat_minor": 2
}
